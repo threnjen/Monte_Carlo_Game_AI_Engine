{
 "cells": [
  {
   "cell_type": "code",
   "execution_count": 76,
   "id": "93c0fc2e",
   "metadata": {},
   "outputs": [],
   "source": [
    "import numpy as np"
   ]
  },
  {
   "cell_type": "code",
   "execution_count": 62,
   "id": "3c244260",
   "metadata": {},
   "outputs": [
    {
     "data": {
      "text/plain": [
       "array([[[0, 0, 0],\n",
       "        [0, 0, 0],\n",
       "        [0, 0, 0]],\n",
       "\n",
       "       [[0, 0, 0],\n",
       "        [0, 0, 0],\n",
       "        [0, 0, 0]],\n",
       "\n",
       "       [[0, 0, 0],\n",
       "        [0, 0, 0],\n",
       "        [0, 0, 0]]])"
      ]
     },
     "execution_count": 62,
     "metadata": {},
     "output_type": "execute_result"
    }
   ],
   "source": [
    "board = np.empty((3,3,3)).astype(int)\n",
    "board"
   ]
  },
  {
   "cell_type": "code",
   "execution_count": 31,
   "id": "7e9c8d4d",
   "metadata": {},
   "outputs": [
    {
     "data": {
      "text/plain": [
       "array([[[1, 0, 0],\n",
       "        [0, 1, 0],\n",
       "        [0, 0, 1]],\n",
       "\n",
       "       [[0, 0, 0],\n",
       "        [0, 0, 0],\n",
       "        [0, 0, 0]],\n",
       "\n",
       "       [[0, 0, 0],\n",
       "        [0, 0, 0],\n",
       "        [0, 0, 0]]])"
      ]
     },
     "execution_count": 31,
     "metadata": {},
     "output_type": "execute_result"
    }
   ],
   "source": [
    "board[0,0,0] = 1\n",
    "board[0,1,1] = 1\n",
    "board[0,2,2] = 1\n",
    "board"
   ]
  },
  {
   "cell_type": "code",
   "execution_count": 32,
   "id": "81187316",
   "metadata": {},
   "outputs": [
    {
     "data": {
      "text/plain": [
       "array([[[1, 0, 0],\n",
       "        [0, 1, 0],\n",
       "        [0, 0, 1]],\n",
       "\n",
       "       [[2, 0, 0],\n",
       "        [0, 2, 2],\n",
       "        [0, 0, 0]],\n",
       "\n",
       "       [[0, 0, 0],\n",
       "        [0, 0, 0],\n",
       "        [0, 0, 0]]])"
      ]
     },
     "execution_count": 32,
     "metadata": {},
     "output_type": "execute_result"
    }
   ],
   "source": [
    "board[1,0,0] = 2\n",
    "board[1,1,1] = 2\n",
    "board[1,1,2] = 2\n",
    "board"
   ]
  },
  {
   "cell_type": "code",
   "execution_count": 33,
   "id": "1d727f19",
   "metadata": {
    "scrolled": true
   },
   "outputs": [
    {
     "data": {
      "text/plain": [
       "array([[[1, 0, 0],\n",
       "        [0, 1, 0],\n",
       "        [0, 0, 1]],\n",
       "\n",
       "       [[2, 0, 0],\n",
       "        [0, 2, 2],\n",
       "        [0, 0, 0]],\n",
       "\n",
       "       [[3, 0, 0],\n",
       "        [0, 0, 0],\n",
       "        [0, 0, 0]]])"
      ]
     },
     "execution_count": 33,
     "metadata": {},
     "output_type": "execute_result"
    }
   ],
   "source": [
    "board[2,0,0] = 3\n",
    "board"
   ]
  },
  {
   "cell_type": "code",
   "execution_count": 272,
   "id": "3bbff10b",
   "metadata": {},
   "outputs": [
    {
     "data": {
      "text/plain": [
       "{1: 0, 2: 0, 3: 0, 4: 0}"
      ]
     },
     "execution_count": 272,
     "metadata": {},
     "output_type": "execute_result"
    }
   ],
   "source": [
    "players = 4\n",
    "scores = {}\n",
    "\n",
    "scores = {n+1:0 for n in range(players)}\n",
    "\n",
    "scores"
   ]
  },
  {
   "cell_type": "code",
   "execution_count": 35,
   "id": "f0f747b5",
   "metadata": {},
   "outputs": [
    {
     "data": {
      "text/plain": [
       "([2, 2, 0], [2, 2, 1], [2, 2, 2])"
      ]
     },
     "execution_count": 35,
     "metadata": {},
     "output_type": "execute_result"
    }
   ],
   "source": [
    "[0,0,0], [0,0,1], [0,0,2]\n",
    "[0,1,0], [0,1,1], [0,1,2]\n",
    "[0,2,0], [0,2,1], [0,2,2]\n",
    "\n",
    "[1,0,0], [1,0,1], [1,0,2]\n",
    "[1,1,0], [1,1,1], [1,1,2]\n",
    "[1,2,0], [1,2,1], [1,2,2]\n",
    "\n",
    "[2,0,0], [2,0,1], [2,0,2]\n",
    "[2,1,0], [2,1,1], [2,1,2]\n",
    "[2,2,0], [2,2,1], [2,2,2]"
   ]
  },
  {
   "cell_type": "code",
   "execution_count": 39,
   "id": "a0fc3a64",
   "metadata": {},
   "outputs": [],
   "source": [
    "position = [0,0,0]\n",
    "position = tuple(position)"
   ]
  },
  {
   "cell_type": "code",
   "execution_count": 40,
   "id": "35f02a5f",
   "metadata": {},
   "outputs": [
    {
     "data": {
      "text/plain": [
       "array([[[5, 0, 0],\n",
       "        [0, 0, 0],\n",
       "        [0, 0, 0]],\n",
       "\n",
       "       [[0, 0, 0],\n",
       "        [0, 0, 0],\n",
       "        [0, 0, 0]],\n",
       "\n",
       "       [[0, 0, 0],\n",
       "        [0, 0, 0],\n",
       "        [0, 0, 0]]])"
      ]
     },
     "execution_count": 40,
     "metadata": {},
     "output_type": "execute_result"
    }
   ],
   "source": [
    "board[position] = 5\n",
    "board"
   ]
  },
  {
   "cell_type": "code",
   "execution_count": 114,
   "id": "6d08b9b7",
   "metadata": {},
   "outputs": [
    {
     "data": {
      "text/plain": [
       "0"
      ]
     },
     "execution_count": 114,
     "metadata": {},
     "output_type": "execute_result"
    }
   ],
   "source": [
    "board[0,2,1]"
   ]
  },
  {
   "cell_type": "code",
   "execution_count": 113,
   "id": "007da00e",
   "metadata": {},
   "outputs": [
    {
     "data": {
      "text/plain": [
       "[[0, 0, 0],\n",
       " [0, 0, 1],\n",
       " [0, 0, 2],\n",
       " [0, 1, 0],\n",
       " [0, 1, 1],\n",
       " [0, 1, 2],\n",
       " [0, 2, 0],\n",
       " [0, 2, 1],\n",
       " [0, 2, 2],\n",
       " [1, 0, 0],\n",
       " [1, 0, 1],\n",
       " [1, 0, 2],\n",
       " [1, 1, 0],\n",
       " [1, 1, 1],\n",
       " [1, 1, 2],\n",
       " [1, 2, 0],\n",
       " [1, 2, 1],\n",
       " [1, 2, 2],\n",
       " [2, 0, 0],\n",
       " [2, 0, 1],\n",
       " [2, 0, 2],\n",
       " [2, 1, 0],\n",
       " [2, 1, 1],\n",
       " [2, 1, 2],\n",
       " [2, 2, 0],\n",
       " [2, 2, 1],\n",
       " [2, 2, 2]]"
      ]
     },
     "execution_count": 113,
     "metadata": {},
     "output_type": "execute_result"
    }
   ],
   "source": [
    "legal_actions = np.argwhere(board == 0).tolist()\n",
    "legal_actions"
   ]
  },
  {
   "cell_type": "code",
   "execution_count": 88,
   "id": "1d0c1396",
   "metadata": {},
   "outputs": [
    {
     "data": {
      "text/plain": [
       "array([1, 2, 2], dtype=int64)"
      ]
     },
     "execution_count": 88,
     "metadata": {},
     "output_type": "execute_result"
    }
   ],
   "source": [
    "action = legal_actions.pop()\n",
    "action"
   ]
  },
  {
   "cell_type": "code",
   "execution_count": 89,
   "id": "f4f64ebd",
   "metadata": {},
   "outputs": [
    {
     "data": {
      "text/plain": [
       "(1, 2, 2)"
      ]
     },
     "execution_count": 89,
     "metadata": {},
     "output_type": "execute_result"
    }
   ],
   "source": [
    "position = tuple(action)\n",
    "position"
   ]
  },
  {
   "cell_type": "code",
   "execution_count": 91,
   "id": "e1a87cee",
   "metadata": {},
   "outputs": [
    {
     "data": {
      "text/plain": [
       "1"
      ]
     },
     "execution_count": 91,
     "metadata": {},
     "output_type": "execute_result"
    }
   ],
   "source": [
    "action[0]"
   ]
  },
  {
   "cell_type": "code",
   "execution_count": 55,
   "id": "947d6616",
   "metadata": {},
   "outputs": [
    {
     "data": {
      "text/plain": [
       "array([[[5, 0, 0],\n",
       "        [0, 0, 0],\n",
       "        [0, 0, 0]],\n",
       "\n",
       "       [[0, 0, 0],\n",
       "        [0, 0, 0],\n",
       "        [0, 0, 0]],\n",
       "\n",
       "       [[0, 0, 0],\n",
       "        [0, 0, 0],\n",
       "        [0, 0, 5]]])"
      ]
     },
     "execution_count": 55,
     "metadata": {},
     "output_type": "execute_result"
    }
   ],
   "source": [
    "board[position] = 5\n",
    "board"
   ]
  },
  {
   "cell_type": "code",
   "execution_count": 60,
   "id": "73141744",
   "metadata": {},
   "outputs": [
    {
     "data": {
      "text/plain": [
       "{0: ['A1', 'A1', 'A1'], 1: ['A2', 'A2', 'A2'], 2: ['A3', 'A3', 'A3']}"
      ]
     },
     "execution_count": 60,
     "metadata": {},
     "output_type": "execute_result"
    }
   ],
   "source": [
    "mark = 'A'\n",
    "pieces = {}\n",
    "pieces[0] = [mark+'1',mark+'1',mark+'1']\n",
    "pieces[1] = [mark+'2',mark+'2',mark+'2']\n",
    "pieces[2] = [mark+'3',mark+'3',mark+'3']\n",
    "\n",
    "pieces"
   ]
  },
  {
   "cell_type": "code",
   "execution_count": 74,
   "id": "c833342c",
   "metadata": {},
   "outputs": [
    {
     "data": {
      "text/plain": [
       "array([[[0, 0, 0],\n",
       "        [0, 0, 0],\n",
       "        [0, 0, 0]],\n",
       "\n",
       "       [[0, 0, 0],\n",
       "        [0, 0, 0],\n",
       "        [0, 0, 0]],\n",
       "\n",
       "       [[0, 0, 0],\n",
       "        [0, 0, 0],\n",
       "        [0, 0, 0]]])"
      ]
     },
     "execution_count": 74,
     "metadata": {},
     "output_type": "execute_result"
    }
   ],
   "source": [
    "board"
   ]
  },
  {
   "cell_type": "code",
   "execution_count": 71,
   "id": "830c14bb",
   "metadata": {},
   "outputs": [
    {
     "data": {
      "text/plain": [
       "{0: [], 1: ['A2', 'A2', 'A2'], 2: ['A3', 'A3', 'A3']}"
      ]
     },
     "execution_count": 71,
     "metadata": {},
     "output_type": "execute_result"
    }
   ],
   "source": [
    "pieces = {}\n",
    "pieces[0] = [mark+'1',mark+'1',mark+'1']\n",
    "pieces[1] = [mark+'2',mark+'2',mark+'2']\n",
    "pieces[2] = [mark+'3',mark+'3',mark+'3']\n",
    "\n",
    "pieces"
   ]
  },
  {
   "cell_type": "code",
   "execution_count": 126,
   "id": "e890bda0",
   "metadata": {},
   "outputs": [
    {
     "data": {
      "text/plain": [
       "[0]"
      ]
     },
     "execution_count": 126,
     "metadata": {},
     "output_type": "execute_result"
    }
   ],
   "source": [
    "invalid_player_levels = [k for k,v in pieces.items() if len(v)==0]\n",
    "invalid_player_levels"
   ]
  },
  {
   "cell_type": "code",
   "execution_count": 127,
   "id": "6cd3ac3f",
   "metadata": {},
   "outputs": [
    {
     "data": {
      "text/plain": [
       "array([[[0, 0, 0],\n",
       "        [0, 0, 0],\n",
       "        [0, 0, 0]],\n",
       "\n",
       "       [[0, 0, 0],\n",
       "        [0, 0, 0],\n",
       "        [0, 0, 0]],\n",
       "\n",
       "       [[0, 0, 0],\n",
       "        [0, 0, 0],\n",
       "        [0, 0, 0]]])"
      ]
     },
     "execution_count": 127,
     "metadata": {},
     "output_type": "execute_result"
    }
   ],
   "source": [
    "player_legal_board = board\n",
    "player_legal_board"
   ]
  },
  {
   "cell_type": "code",
   "execution_count": 125,
   "id": "c65fe2a3",
   "metadata": {},
   "outputs": [
    {
     "data": {
      "text/plain": [
       "[[0, 0, 0],\n",
       " [0, 0, 1],\n",
       " [0, 0, 2],\n",
       " [0, 1, 0],\n",
       " [0, 1, 1],\n",
       " [0, 1, 2],\n",
       " [0, 2, 0],\n",
       " [0, 2, 1],\n",
       " [0, 2, 2],\n",
       " [1, 0, 0],\n",
       " [1, 0, 1],\n",
       " [1, 0, 2],\n",
       " [1, 1, 0],\n",
       " [1, 1, 1],\n",
       " [1, 1, 2],\n",
       " [1, 2, 0],\n",
       " [1, 2, 1],\n",
       " [1, 2, 2]]"
      ]
     },
     "execution_count": 125,
     "metadata": {},
     "output_type": "execute_result"
    }
   ],
   "source": [
    "legal_actions = np.argwhere(player_legal_board == 0).tolist()\n",
    "legal_actions"
   ]
  },
  {
   "cell_type": "code",
   "execution_count": 140,
   "id": "73587f14",
   "metadata": {},
   "outputs": [
    {
     "data": {
      "text/plain": [
       "[[1, 0, 0],\n",
       " [1, 0, 1],\n",
       " [1, 0, 2],\n",
       " [1, 1, 0],\n",
       " [1, 1, 1],\n",
       " [1, 1, 2],\n",
       " [1, 2, 0],\n",
       " [1, 2, 1],\n",
       " [1, 2, 2]]"
      ]
     },
     "execution_count": 140,
     "metadata": {},
     "output_type": "execute_result"
    }
   ],
   "source": [
    "[x for x in legal_actions if x[0] not in invalid_player_levels]"
   ]
  },
  {
   "cell_type": "code",
   "execution_count": 92,
   "id": "40e0dae7",
   "metadata": {},
   "outputs": [
    {
     "data": {
      "text/plain": [
       "'A2'"
      ]
     },
     "execution_count": 92,
     "metadata": {},
     "output_type": "execute_result"
    }
   ],
   "source": [
    "pieces[action[0]].pop()"
   ]
  },
  {
   "cell_type": "code",
   "execution_count": 221,
   "id": "6efd99a0",
   "metadata": {},
   "outputs": [],
   "source": [
    "win_conditions = {\n",
    "\n",
    "            \"Level 1 top_row\":[[0,0,0], [0,0,1], [0,0,2]],\n",
    "            \"Level 1 mid_row\":[[0,1,0], [0,1,1], [0,1,2]],\n",
    "            \"Level 1 bot_row\":[[0,2,0], [0,2,1], [0,2,2]],\n",
    "            \"Level 1 left_col\":[[0,0,0],[0,1,0], [0,2,0]],\n",
    "            \"Level 1 mid_col\":[[0,0,1], [0,1,1], [0,1,2]],\n",
    "            \"Level 1 right_col\":[[0,0,2], [0,1,2], [0,2,2]],\n",
    "            \"Level 1 left_diag\":[[0,0,0], [0,1,1], [0,2,2]],\n",
    "            \"Level 1 right_diag\":[[0,0,2], [0,1,1], [0,2,0]],\n",
    "\n",
    "            \"Level 2 top_row\":[[1,0,0], [1,0,1], [1,0,2]],\n",
    "            \"Level 2 mid_row\":[[1,1,0], [1,1,1], [1,1,2]],\n",
    "            \"Level 2 bot_row\":[[1,2,0], [1,2,1], [1,2,2]],\n",
    "            \"Level 2 left_col\":[[1,0,0], [1,1,0], [1,2,0]],\n",
    "            \"Level 2 mid_col\":[[1,0,1], [1,1,1], [1,2,1]],\n",
    "            \"Level 2 right_col\":[[1,0,2], [1,1,2], [1,2,2]],\n",
    "            \"Level 2 left_diag\":[[1,0,0], [1,1,1], [1,2,2]],\n",
    "            \"Level 2 right_diag\":[[1,0,2], [1,1,1], [1,2,0]],\n",
    "            \n",
    "            \"Level 3 top_row\":[[2,0,0], [2,0,1], [2,0,2]],\n",
    "            \"Level 3 mid_row\":[[2,1,0], [2,1,1], [2,1,2]],\n",
    "            \"Level 3 bot_row\":[[2,2,0], [2,2,1], [2,2,2]],\n",
    "            \"Level 3 left_col\":[[2,0,0], [2,1,0], [2,2,0]],\n",
    "            \"Level 3 mid_col\":[[2,0,1], [2,1,1], [2,2,1]],\n",
    "            \"Level 3 right_col\":[[2,0,2], [2,1,2], [2,2,2]],\n",
    "            \"Level 3 left_diag\":[[2,0,0], [2,1,1], [2,2,2]],\n",
    "            \"Level 3 right_diag\":[[2,0,2], [2,1,1], [2,2,0]],\n",
    "\n",
    "            \"Single Column 0,0\":[[0,0,0], [1,0,0], [2,0,0]],\n",
    "            \"Single Column 0,1\":[[0,0,1], [1,0,1], [2,0,1]],\n",
    "            \"Single Column 0,2\":[[0,0,2], [1,0,2], [2,0,2]],\n",
    "            \"Single Column 1,0\":[[0,1,0], [1,1,0], [2,1,0]],\n",
    "            \"Single Column 1,1\":[[0,1,1], [1,1,1], [2,1,1]],\n",
    "            \"Single Column 1,2\":[[0,1,2], [1,1,2], [2,1,2]],\n",
    "            \"Single Column 2,0\":[[0,2,0], [1,2,0], [2,2,0]],\n",
    "            \"Single Column 2,1\":[[0,2,1], [1,2,1], [2,2,1]],\n",
    "            \"Single Column 2,2\":[[0,2,2], [1,2,2], [2,2,2]],\n",
    "\n",
    "            \"Diag top_row asc\":[[0,0,0], [1,0,1], [2,0,2]],\n",
    "            \"Diag top_row desc\":[[2,0,0], [1,0,1], [0,0,2]],\n",
    "            \"Diag mid_row asc\":[[0,1,0], [1,1,1], [2,1,2]],\n",
    "            \"Diag mid_row desc\":[[2,1,0], [1,1,1], [0,0,2]],\n",
    "            \"Diag bot_row asc\":[[0,2,0], [1,2,1], [2,2,2]],\n",
    "            \"Diag bot_row desc\":[[2,2,0], [1,2,1], [0,2,2]],\n",
    "            \"Diag left_col asc\":[[0,0,0], [1,1,0], [2,2,0]],\n",
    "            \"Diag left_col desc\":[[0,2,0], [1,1,0], [2,0,0]],\n",
    "            \"Diag mid_col asc\":[[0,0,1], [1,1,1], [2,2,1]],\n",
    "            \"Diag mid_col desc\":[[0,2,1], [1,1,1], [2,0,1]],\n",
    "            \"Diag right_col asc\":[[0,0,2], [1,1,2], [2,2,2]],\n",
    "            \"Diag right_col desc\":[[2,2,2], [1,1,2], [0,0,2]],\n",
    "            \"Diag left_diag asc\":[[0,0,0], [1,1,1], [2,2,2]],\n",
    "            \"Diag right_diag asc\":[[2,0,0], [1,1,1], [0,2,2]],\n",
    "            \"Diag left_diag desc\":[[0,2,0], [1,1,1], [2,0,2]],\n",
    "            \"Diag right_diag desc\":[[2,2,0], [1,1,1], [0,0,2]],\n",
    "\n",
    "                }"
   ]
  },
  {
   "cell_type": "markdown",
   "id": "a43be698",
   "metadata": {},
   "source": [
    "## Win Conditions"
   ]
  },
  {
   "cell_type": "code",
   "execution_count": 248,
   "id": "7087b50a",
   "metadata": {},
   "outputs": [
    {
     "data": {
      "text/plain": [
       "array([[[ 3,  5,  7],\n",
       "        [ 0,  0,  0],\n",
       "        [ 0,  0,  0]],\n",
       "\n",
       "       [[ 0,  5,  0],\n",
       "        [ 0,  9,  0],\n",
       "        [ 0,  8,  0]],\n",
       "\n",
       "       [[ 0,  0,  0],\n",
       "        [ 0,  0,  0],\n",
       "        [11, 11, 11]]])"
      ]
     },
     "execution_count": 248,
     "metadata": {},
     "output_type": "execute_result"
    }
   ],
   "source": [
    "board[0,0,0] = 3\n",
    "board[0,0,1] = 5\n",
    "board[0,0,2] = 7\n",
    "board[1,1,1] = 9\n",
    "board[2,2,2] = 11\n",
    "board[2,2,1] = 11\n",
    "board[2,2,0] = 11\n",
    "board[1,0,1] = 5\n",
    "board[1,2,1] = 8\n",
    "board"
   ]
  },
  {
   "cell_type": "code",
   "execution_count": 266,
   "id": "23495595",
   "metadata": {
    "scrolled": true
   },
   "outputs": [
    {
     "data": {
      "text/plain": [
       "[[[0, 0, 0], [0, 0, 1], [0, 0, 2]],\n",
       " [[0, 1, 0], [0, 1, 1], [0, 1, 2]],\n",
       " [[0, 2, 0], [0, 2, 1], [0, 2, 2]],\n",
       " [[0, 0, 0], [0, 1, 0], [0, 2, 0]],\n",
       " [[0, 0, 1], [0, 1, 1], [0, 1, 2]],\n",
       " [[0, 0, 2], [0, 1, 2], [0, 2, 2]],\n",
       " [[0, 0, 0], [0, 1, 1], [0, 2, 2]],\n",
       " [[0, 0, 2], [0, 1, 1], [0, 2, 0]],\n",
       " [[1, 0, 0], [1, 0, 1], [1, 0, 2]],\n",
       " [[1, 1, 0], [1, 1, 1], [1, 1, 2]],\n",
       " [[1, 2, 0], [1, 2, 1], [1, 2, 2]],\n",
       " [[1, 0, 0], [1, 1, 0], [1, 2, 0]],\n",
       " [[1, 0, 1], [1, 1, 1], [1, 2, 1]],\n",
       " [[1, 0, 2], [1, 1, 2], [1, 2, 2]],\n",
       " [[1, 0, 0], [1, 1, 1], [1, 2, 2]],\n",
       " [[1, 0, 2], [1, 1, 1], [1, 2, 0]],\n",
       " [[2, 0, 0], [2, 0, 1], [2, 0, 2]],\n",
       " [[2, 1, 0], [2, 1, 1], [2, 1, 2]],\n",
       " [[2, 2, 0], [2, 2, 1], [2, 2, 2]],\n",
       " [[2, 0, 0], [2, 1, 0], [2, 2, 0]],\n",
       " [[2, 0, 1], [2, 1, 1], [2, 2, 1]],\n",
       " [[2, 0, 2], [2, 1, 2], [2, 2, 2]],\n",
       " [[2, 0, 0], [2, 1, 1], [2, 2, 2]],\n",
       " [[2, 0, 2], [2, 1, 1], [2, 2, 0]],\n",
       " [[0, 0, 0], [1, 0, 0], [2, 0, 0]],\n",
       " [[0, 0, 1], [1, 0, 1], [2, 0, 1]],\n",
       " [[0, 0, 2], [1, 0, 2], [2, 0, 2]],\n",
       " [[0, 1, 0], [1, 1, 0], [2, 1, 0]],\n",
       " [[0, 1, 1], [1, 1, 1], [2, 1, 1]],\n",
       " [[0, 1, 2], [1, 1, 2], [2, 1, 2]],\n",
       " [[0, 2, 0], [1, 2, 0], [2, 2, 0]],\n",
       " [[0, 2, 1], [1, 2, 1], [2, 2, 1]],\n",
       " [[0, 2, 2], [1, 2, 2], [2, 2, 2]],\n",
       " [[0, 0, 0], [1, 0, 1], [2, 0, 2]],\n",
       " [[2, 0, 0], [1, 0, 1], [0, 0, 2]],\n",
       " [[0, 1, 0], [1, 1, 1], [2, 1, 2]],\n",
       " [[2, 1, 0], [1, 1, 1], [0, 0, 2]],\n",
       " [[0, 2, 0], [1, 2, 1], [2, 2, 2]],\n",
       " [[2, 2, 0], [1, 2, 1], [0, 2, 2]],\n",
       " [[0, 0, 0], [1, 1, 0], [2, 2, 0]],\n",
       " [[0, 2, 0], [1, 1, 0], [2, 0, 0]],\n",
       " [[0, 0, 1], [1, 1, 1], [2, 2, 1]],\n",
       " [[0, 2, 1], [1, 1, 1], [2, 0, 1]],\n",
       " [[0, 0, 2], [1, 1, 2], [2, 2, 2]],\n",
       " [[2, 2, 2], [1, 1, 2], [0, 0, 2]],\n",
       " [[0, 0, 0], [1, 1, 1], [2, 2, 2]],\n",
       " [[2, 0, 0], [1, 1, 1], [0, 2, 2]],\n",
       " [[0, 2, 0], [1, 1, 1], [2, 0, 2]],\n",
       " [[2, 2, 0], [1, 1, 1], [0, 0, 2]]]"
      ]
     },
     "execution_count": 266,
     "metadata": {},
     "output_type": "execute_result"
    }
   ],
   "source": [
    "win_array = list(win_conditions.values())\n",
    "win_array"
   ]
  },
  {
   "cell_type": "code",
   "execution_count": 267,
   "id": "3177e393",
   "metadata": {},
   "outputs": [
    {
     "data": {
      "text/plain": [
       "49"
      ]
     },
     "execution_count": 267,
     "metadata": {},
     "output_type": "execute_result"
    }
   ],
   "source": [
    "len(win_array)"
   ]
  },
  {
   "cell_type": "code",
   "execution_count": 268,
   "id": "fce5ac6a",
   "metadata": {},
   "outputs": [],
   "source": [
    "remove_conditions = []"
   ]
  },
  {
   "cell_type": "code",
   "execution_count": 269,
   "id": "a5a7ac72",
   "metadata": {
    "scrolled": true
   },
   "outputs": [
    {
     "name": "stdout",
     "output_type": "stream",
     "text": [
      "[3, 5, 7]\n",
      "Win condition is removed, but game is not over\n",
      "[0, 0, 0]\n",
      "Game is not over\n",
      "[0, 0, 0]\n",
      "Game is not over\n",
      "[3, 0, 0]\n",
      "Game is not over\n",
      "[5, 0, 0]\n",
      "Game is not over\n",
      "[7, 0, 0]\n",
      "Game is not over\n",
      "[3, 0, 0]\n",
      "Game is not over\n",
      "[7, 0, 0]\n",
      "Game is not over\n",
      "[0, 5, 0]\n",
      "Game is not over\n",
      "[0, 9, 0]\n",
      "Game is not over\n",
      "[0, 8, 0]\n",
      "Game is not over\n",
      "[0, 0, 0]\n",
      "Game is not over\n",
      "[5, 9, 8]\n",
      "Win condition is removed, but game is not over\n",
      "[0, 0, 0]\n",
      "Game is not over\n",
      "[0, 9, 0]\n",
      "Game is not over\n",
      "[0, 9, 0]\n",
      "Game is not over\n",
      "[0, 0, 0]\n",
      "Game is not over\n",
      "[0, 0, 0]\n",
      "Game is not over\n",
      "[11, 11, 11]\n",
      "Game is over\n",
      "[11, 11, 11]\n",
      "Do scores here\n"
     ]
    }
   ],
   "source": [
    "for single_win_condition in win_array:\n",
    "    test_indices = [tuple(x) for x in single_win_condition] \n",
    "    test_win_contents = [board[i] for i in test_indices]\n",
    "    print(test_win_contents)\n",
    "    if 0 not in test_win_contents and not all(element == test_win_contents[0] for element in test_win_contents):\n",
    "        print(\"Win condition is removed, but game is not over\")\n",
    "        remove_conditions.append(single_win_condition)\n",
    "    elif 0 not in test_win_contents and all(element == test_win_contents[0] for element in test_win_contents):\n",
    "        print(\"Game is over\")\n",
    "        print(test_win_contents)\n",
    "        print(\"Do scores here\")\n",
    "        break\n",
    "    else:\n",
    "        print(\"Game is not over\")\n",
    "for i in remove_conditions:\n",
    "    win_array.remove(i)"
   ]
  },
  {
   "cell_type": "code",
   "execution_count": 270,
   "id": "1634f182",
   "metadata": {},
   "outputs": [
    {
     "data": {
      "text/plain": [
       "11"
      ]
     },
     "execution_count": 270,
     "metadata": {},
     "output_type": "execute_result"
    }
   ],
   "source": [
    "test_win_contents[0]"
   ]
  },
  {
   "cell_type": "code",
   "execution_count": 258,
   "id": "319220ff",
   "metadata": {},
   "outputs": [
    {
     "data": {
      "text/plain": [
       "[[[0, 0, 0], [0, 0, 1], [0, 0, 2]], [[1, 0, 1], [1, 1, 1], [1, 2, 1]]]"
      ]
     },
     "execution_count": 258,
     "metadata": {},
     "output_type": "execute_result"
    }
   ],
   "source": [
    "remove_conditions"
   ]
  },
  {
   "cell_type": "code",
   "execution_count": 259,
   "id": "71eaa909",
   "metadata": {},
   "outputs": [],
   "source": [
    "for i in remove_conditions:\n",
    "    win_array.remove(i)"
   ]
  },
  {
   "cell_type": "code",
   "execution_count": 260,
   "id": "7a43c964",
   "metadata": {},
   "outputs": [
    {
     "data": {
      "text/plain": [
       "47"
      ]
     },
     "execution_count": 260,
     "metadata": {},
     "output_type": "execute_result"
    }
   ],
   "source": [
    "len(win_array)"
   ]
  },
  {
   "cell_type": "code",
   "execution_count": 273,
   "id": "89312ebd",
   "metadata": {},
   "outputs": [
    {
     "data": {
      "text/plain": [
       "{1: 0, 2: 0, 3: 0, 4: 0}"
      ]
     },
     "execution_count": 273,
     "metadata": {},
     "output_type": "execute_result"
    }
   ],
   "source": [
    "player_winner = 2\n",
    "scores"
   ]
  },
  {
   "cell_type": "code",
   "execution_count": 305,
   "id": "90418cad",
   "metadata": {},
   "outputs": [
    {
     "name": "stdout",
     "output_type": "stream",
     "text": [
      "1\n",
      "3\n",
      "4\n"
     ]
    }
   ],
   "source": [
    "for k in scores.keys():\n",
    "    if k != player_winner:\n",
    "        scores[k] = -10"
   ]
  },
  {
   "cell_type": "code",
   "execution_count": null,
   "id": "74b2f843",
   "metadata": {},
   "outputs": [],
   "source": []
  },
  {
   "cell_type": "code",
   "execution_count": null,
   "id": "047ed929",
   "metadata": {},
   "outputs": [],
   "source": []
  },
  {
   "cell_type": "code",
   "execution_count": 228,
   "id": "0386da99",
   "metadata": {},
   "outputs": [
    {
     "data": {
      "text/plain": [
       "[[0, 0, 0], [0, 0, 1], [0, 0, 2]]"
      ]
     },
     "execution_count": 228,
     "metadata": {},
     "output_type": "execute_result"
    }
   ],
   "source": [
    "first_win_condition = win_array[0]\n",
    "first_win_condition"
   ]
  },
  {
   "cell_type": "code",
   "execution_count": 229,
   "id": "35a659dd",
   "metadata": {},
   "outputs": [
    {
     "data": {
      "text/plain": [
       "[(0, 0, 0), (0, 0, 1), (0, 0, 2)]"
      ]
     },
     "execution_count": 229,
     "metadata": {},
     "output_type": "execute_result"
    }
   ],
   "source": [
    "test_indices = [tuple(x) for x in first_win_condition]\n",
    "test_indices"
   ]
  },
  {
   "cell_type": "code",
   "execution_count": 230,
   "id": "ac8af773",
   "metadata": {},
   "outputs": [
    {
     "data": {
      "text/plain": [
       "[3, 5, 7]"
      ]
     },
     "execution_count": 230,
     "metadata": {},
     "output_type": "execute_result"
    }
   ],
   "source": [
    "test_win_contents = [board[i] for i in test_indices]\n",
    "test_win_contents"
   ]
  },
  {
   "cell_type": "code",
   "execution_count": 235,
   "id": "1876a83f",
   "metadata": {},
   "outputs": [
    {
     "name": "stdout",
     "output_type": "stream",
     "text": [
      "True\n"
     ]
    }
   ],
   "source": [
    "if 0 not in test_win_contents and all(element == test_win_contents[0] for element in test_win_contents):\n",
    "    print(\"Game is over\")\n",
    "else:\n",
    "    print(\"Game is not over\")\n",
    "    \n"
   ]
  },
  {
   "cell_type": "code",
   "execution_count": null,
   "id": "cccfe199",
   "metadata": {},
   "outputs": [],
   "source": [
    "checked_win_conditions = []"
   ]
  },
  {
   "cell_type": "code",
   "execution_count": null,
   "id": "2165eeff",
   "metadata": {},
   "outputs": [],
   "source": []
  },
  {
   "cell_type": "code",
   "execution_count": 232,
   "id": "368e541a",
   "metadata": {},
   "outputs": [
    {
     "ename": "AttributeError",
     "evalue": "'list' object has no attribute 'items'",
     "output_type": "error",
     "traceback": [
      "\u001b[1;31m---------------------------------------------------------------------------\u001b[0m",
      "\u001b[1;31mAttributeError\u001b[0m                            Traceback (most recent call last)",
      "\u001b[1;32m~\\AppData\\Local\\Temp/ipykernel_20132/2558910105.py\u001b[0m in \u001b[0;36m<module>\u001b[1;34m\u001b[0m\n\u001b[1;32m----> 1\u001b[1;33m \u001b[0mtest_win_contents\u001b[0m\u001b[1;33m.\u001b[0m\u001b[0mitems\u001b[0m\u001b[1;33m(\u001b[0m\u001b[1;33m)\u001b[0m\u001b[1;33m\u001b[0m\u001b[1;33m\u001b[0m\u001b[0m\n\u001b[0m",
      "\u001b[1;31mAttributeError\u001b[0m: 'list' object has no attribute 'items'"
     ]
    }
   ],
   "source": [
    "test_win_contents.items()"
   ]
  }
 ],
 "metadata": {
  "kernelspec": {
   "display_name": "Python 3 (ipykernel)",
   "language": "python",
   "name": "python3"
  },
  "language_info": {
   "codemirror_mode": {
    "name": "ipython",
    "version": 3
   },
   "file_extension": ".py",
   "mimetype": "text/x-python",
   "name": "python",
   "nbconvert_exporter": "python",
   "pygments_lexer": "ipython3",
   "version": "3.7.10"
  },
  "toc": {
   "base_numbering": 1,
   "nav_menu": {},
   "number_sections": true,
   "sideBar": true,
   "skip_h1_title": false,
   "title_cell": "Table of Contents",
   "title_sidebar": "Contents",
   "toc_cell": false,
   "toc_position": {},
   "toc_section_display": true,
   "toc_window_display": true
  }
 },
 "nbformat": 4,
 "nbformat_minor": 5
}
